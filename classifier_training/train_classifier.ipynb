{
  "cells": [
    {
      "cell_type": "markdown",
      "metadata": {
        "id": "view-in-github",
        "colab_type": "text"
      },
      "source": [
        "<a href=\"https://colab.research.google.com/github/GirinMan/HAI-DialectTranslator/blob/main/classifier_training/train_classifier.ipynb\" target=\"_parent\"><img src=\"https://colab.research.google.com/assets/colab-badge.svg\" alt=\"Open In Colab\"/></a>"
      ]
    },
    {
      "cell_type": "code",
      "execution_count": 1,
      "metadata": {
        "colab": {
          "base_uri": "https://localhost:8080/"
        },
        "id": "yzHvV4HlGw4r",
        "outputId": "b70e57dc-c019-45ea-a800-e93a2cb2cb7f"
      },
      "outputs": [
        {
          "output_type": "stream",
          "name": "stdout",
          "text": [
            "Looking in indexes: https://pypi.org/simple, https://us-python.pkg.dev/colab-wheels/public/simple/\n",
            "Requirement already satisfied: transformers in /usr/local/lib/python3.7/dist-packages (4.23.1)\n",
            "Requirement already satisfied: huggingface-hub<1.0,>=0.10.0 in /usr/local/lib/python3.7/dist-packages (from transformers) (0.10.1)\n",
            "Requirement already satisfied: regex!=2019.12.17 in /usr/local/lib/python3.7/dist-packages (from transformers) (2022.6.2)\n",
            "Requirement already satisfied: tqdm>=4.27 in /usr/local/lib/python3.7/dist-packages (from transformers) (4.64.1)\n",
            "Requirement already satisfied: numpy>=1.17 in /usr/local/lib/python3.7/dist-packages (from transformers) (1.21.6)\n",
            "Requirement already satisfied: packaging>=20.0 in /usr/local/lib/python3.7/dist-packages (from transformers) (21.3)\n",
            "Requirement already satisfied: requests in /usr/local/lib/python3.7/dist-packages (from transformers) (2.23.0)\n",
            "Requirement already satisfied: tokenizers!=0.11.3,<0.14,>=0.11.1 in /usr/local/lib/python3.7/dist-packages (from transformers) (0.13.1)\n",
            "Requirement already satisfied: filelock in /usr/local/lib/python3.7/dist-packages (from transformers) (3.8.0)\n",
            "Requirement already satisfied: importlib-metadata in /usr/local/lib/python3.7/dist-packages (from transformers) (4.13.0)\n",
            "Requirement already satisfied: pyyaml>=5.1 in /usr/local/lib/python3.7/dist-packages (from transformers) (6.0)\n",
            "Requirement already satisfied: typing-extensions>=3.7.4.3 in /usr/local/lib/python3.7/dist-packages (from huggingface-hub<1.0,>=0.10.0->transformers) (4.1.1)\n",
            "Requirement already satisfied: pyparsing!=3.0.5,>=2.0.2 in /usr/local/lib/python3.7/dist-packages (from packaging>=20.0->transformers) (3.0.9)\n",
            "Requirement already satisfied: zipp>=0.5 in /usr/local/lib/python3.7/dist-packages (from importlib-metadata->transformers) (3.10.0)\n",
            "Requirement already satisfied: idna<3,>=2.5 in /usr/local/lib/python3.7/dist-packages (from requests->transformers) (2.10)\n",
            "Requirement already satisfied: urllib3!=1.25.0,!=1.25.1,<1.26,>=1.21.1 in /usr/local/lib/python3.7/dist-packages (from requests->transformers) (1.24.3)\n",
            "Requirement already satisfied: certifi>=2017.4.17 in /usr/local/lib/python3.7/dist-packages (from requests->transformers) (2022.9.24)\n",
            "Requirement already satisfied: chardet<4,>=3.0.2 in /usr/local/lib/python3.7/dist-packages (from requests->transformers) (3.0.4)\n"
          ]
        }
      ],
      "source": [
        "!pip install transformers\n",
        "\n",
        "import os\n",
        "import random\n",
        "import easydict\n",
        "import requests\n",
        "import torch\n",
        "import numpy as np\n",
        "import pandas as pd\n",
        "\n",
        "from tqdm import tqdm\n",
        "from transformers import AdamW, get_linear_schedule_with_warmup\n",
        "from torch.utils.data import TensorDataset, DataLoader, RandomSampler, SequentialSampler\n",
        "from keras_preprocessing.sequence import pad_sequences\n",
        "from transformers import AutoTokenizer, AutoModelForSequenceClassification"
      ]
    },
    {
      "cell_type": "code",
      "execution_count": 10,
      "metadata": {
        "id": "G8mG8ElvGw4t"
      },
      "outputs": [],
      "source": [
        "def generate_data_loader(file_path, tokenizer, args):\n",
        "    def get_input_ids(data):\n",
        "        document_bert = [\"[CLS] \" + str(s) + \" [SEP]\" for s in data]\n",
        "        tokenized_texts = [tokenizer.tokenize(s) for s in tqdm(document_bert, \"Tokenizing\")]\n",
        "        input_ids = [tokenizer.convert_tokens_to_ids(x) for x in tqdm(tokenized_texts, \"Converting tokens to ids\")]\n",
        "        print(\"Padding sequences...\")\n",
        "        input_ids = pad_sequences(input_ids, maxlen=args.maxlen, dtype='long', truncating='post', padding='post')\n",
        "        return input_ids\n",
        "\n",
        "    def get_attention_masks(input_ids):\n",
        "        attention_masks = []\n",
        "        for seq in tqdm(input_ids, \"Generating attention masks\"):\n",
        "            seq_mask = [float(i > 0) for i in seq]\n",
        "            attention_masks.append(seq_mask)\n",
        "        return attention_masks\n",
        "\n",
        "    def get_data_loader(inputs, masks, labels, batch_size=args.batch):\n",
        "        data = TensorDataset(torch.tensor(inputs), torch.tensor(masks), torch.tensor(labels))\n",
        "        sampler = RandomSampler(data) if args.mode == 'train' else SequentialSampler(data)\n",
        "        data_loader = DataLoader(data, sampler=sampler, batch_size=batch_size)\n",
        "        return data_loader\n",
        "\n",
        "    data_df = pd.read_csv(file_path)\n",
        "    input_ids = get_input_ids(data_df['contents'].values)\n",
        "    attention_masks = get_attention_masks(input_ids)\n",
        "    data_loader = get_data_loader(input_ids, attention_masks, data_df['label'].values if args.mode=='train' else [-1]*len(data_df))\n",
        "\n",
        "    return data_loader"
      ]
    },
    {
      "cell_type": "code",
      "execution_count": 3,
      "metadata": {
        "id": "TfO9ISW2Gw4u"
      },
      "outputs": [],
      "source": [
        "def save(model, dir_name):\n",
        "    os.makedirs(dir_name, exist_ok=True)\n",
        "    torch.save(model.state_dict(), os.path.join(dir_name, 'model.pth'))\n",
        "\n",
        "def flat_accuracy(preds, labels):\n",
        "    pred_flat = np.argmax(preds, axis=1).flatten()\n",
        "    labels_flat = labels.flatten()\n",
        "    return np.sum(pred_flat == labels_flat) / len(labels_flat)"
      ]
    },
    {
      "cell_type": "code",
      "execution_count": 4,
      "metadata": {
        "id": "wqQfejZyGw4u"
      },
      "outputs": [],
      "source": [
        "def predict(model, args, data_loader):\n",
        "    print('start predict')\n",
        "    model.eval()\n",
        "\n",
        "    eval_accuracy = []\n",
        "    logits = []\n",
        "    \n",
        "    for step, batch in tqdm(enumerate(data_loader)):\n",
        "        batch = tuple(t.to(args.device) for t in batch)\n",
        "        b_input_ids, b_input_mask, b_labels = batch\n",
        "        with torch.no_grad():\n",
        "            outputs = model(b_input_ids,\n",
        "                            token_type_ids=None,\n",
        "                            attention_mask=b_input_mask)\n",
        "        logit = outputs[0]\n",
        "\n",
        "        logit = logit.detach().cpu().numpy()\n",
        "        label = b_labels.cpu().numpy()\n",
        "\n",
        "        logits.append(logit)\n",
        "\n",
        "        accuracy = flat_accuracy(logit, label)\n",
        "        eval_accuracy.append(accuracy)\n",
        "\n",
        "    logits = np.vstack(logits)\n",
        "    predict_labels = np.argmax(logits, axis=1)\n",
        "    return predict_labels, np.mean(eval_accuracy)"
      ]
    },
    {
      "cell_type": "code",
      "execution_count": 13,
      "metadata": {
        "id": "twbi-hjmGw4v"
      },
      "outputs": [],
      "source": [
        "def train(model, args, train_loader, valid_loader):\n",
        "    optimizer = AdamW(model.parameters(),\n",
        "                      lr=args.lr,\n",
        "                      eps=args.eps\n",
        "                      )\n",
        "    total_steps = len(train_loader) * args.epochs\n",
        "\n",
        "    scheduler = get_linear_schedule_with_warmup(optimizer,\n",
        "                                                num_warmup_steps=0,\n",
        "                                                num_training_steps=total_steps)\n",
        "\n",
        "    seed_val = 42\n",
        "    random.seed(seed_val)\n",
        "    np.random.seed(seed_val)\n",
        "    torch.manual_seed(seed_val)\n",
        "    torch.cuda.manual_seed_all(seed_val)\n",
        "\n",
        "    print('start training')\n",
        "    for epoch in range(args.epochs):\n",
        "        model.train()\n",
        "        train_loss = []\n",
        "        for step, batch in tqdm(enumerate(train_loader), f\"training epoch {epoch}\", total=len(train_loader)):\n",
        "            model.zero_grad()\n",
        "            batch = tuple(t.to(args.device) for t in batch)\n",
        "            b_input_ids, b_input_mask, b_labels = batch\n",
        "            outputs = model(b_input_ids,\n",
        "                            token_type_ids=None,\n",
        "                            attention_mask=b_input_mask,\n",
        "                            labels=b_labels)\n",
        "            loss = outputs[0]\n",
        "            train_loss.append(loss.item())\n",
        "            loss.backward()\n",
        "            torch.nn.utils.clip_grad_norm_(model.parameters(), 1.0)\n",
        "            optimizer.step()\n",
        "            scheduler.step()\n",
        "\n",
        "        avg_train_loss = np.mean(train_loss)\n",
        "        _, avg_val_accuracy = predict(model, args, valid_loader)\n",
        "        print(\"Epoch {0},  Average training loss: {1:.2f} , Validation accuracy : {2:.2f}\"\\\n",
        "              .format(epoch, avg_train_loss, avg_val_accuracy))\n",
        "\n",
        "        save(model, \"./saved_checkpoints/\" + str(epoch))\n",
        "    return model"
      ]
    },
    {
      "cell_type": "code",
      "execution_count": 6,
      "metadata": {
        "id": "soqhgEExGw4w"
      },
      "outputs": [],
      "source": [
        "args = args = easydict.EasyDict({\n",
        "  \"train_path\" : \"./data/train_data.csv\",\n",
        "  \"valid_path\" : \"./data/valid_data.csv\",\n",
        "  \"device\" : 'cuda',\n",
        "  \"mode\" : \"train\",\n",
        "  \"batch\" : 32,\n",
        "  \"maxlen\" : 128,\n",
        "  \"lr\" : 2e-5,\n",
        "  \"eps\" : 1e-8,\n",
        "  \"epochs\" : 4,\n",
        "  \"model_ckpt\" : \"bert-base-multilingual-cased\",\n",
        "})"
      ]
    },
    {
      "cell_type": "code",
      "source": [
        "# download data\n",
        "os.makedirs('./data', exist_ok=True)\n",
        "\n",
        "train_url = \"https://github.com/GirinMan/HAI-DialectTranslator/raw/main/data_preprocessing/train_data.csv\"\n",
        "valid_url = \"https://github.com/GirinMan/HAI-DialectTranslator/raw/main/data_preprocessing/valid_data.csv\"\n",
        "\n",
        "train_response = requests.get(train_url, allow_redirects=True)\n",
        "valid_response = requests.get(valid_url, allow_redirects=True)\n",
        "\n",
        "open(args.train_path, 'wb').write(train_response.content)\n",
        "open(args.valid_path, 'wb').write(valid_response.content)    "
      ],
      "metadata": {
        "colab": {
          "base_uri": "https://localhost:8080/"
        },
        "id": "TOPktFqTJu-m",
        "outputId": "10c1823c-553e-468f-f7ac-c27679514c2e"
      },
      "execution_count": 7,
      "outputs": [
        {
          "output_type": "execute_result",
          "data": {
            "text/plain": [
              "5183087"
            ]
          },
          "metadata": {},
          "execution_count": 7
        }
      ]
    },
    {
      "cell_type": "code",
      "source": [
        "# load model&tokenizer\n",
        "model = AutoModelForSequenceClassification.from_pretrained(args.model_ckpt, num_labels=2)\n",
        "model.to(args.device)\n",
        "tokenizer = AutoTokenizer.from_pretrained(args.model_ckpt)"
      ],
      "metadata": {
        "colab": {
          "base_uri": "https://localhost:8080/"
        },
        "id": "iy2KULr5J6mE",
        "outputId": "56ee358f-e138-4d9f-cede-5ed8686b3d8b"
      },
      "execution_count": 8,
      "outputs": [
        {
          "output_type": "stream",
          "name": "stderr",
          "text": [
            "Some weights of the model checkpoint at bert-base-multilingual-cased were not used when initializing BertForSequenceClassification: ['cls.predictions.transform.dense.weight', 'cls.predictions.transform.LayerNorm.weight', 'cls.predictions.transform.dense.bias', 'cls.seq_relationship.weight', 'cls.predictions.bias', 'cls.seq_relationship.bias', 'cls.predictions.transform.LayerNorm.bias', 'cls.predictions.decoder.weight']\n",
            "- This IS expected if you are initializing BertForSequenceClassification from the checkpoint of a model trained on another task or with another architecture (e.g. initializing a BertForSequenceClassification model from a BertForPreTraining model).\n",
            "- This IS NOT expected if you are initializing BertForSequenceClassification from the checkpoint of a model that you expect to be exactly identical (initializing a BertForSequenceClassification model from a BertForSequenceClassification model).\n",
            "Some weights of BertForSequenceClassification were not initialized from the model checkpoint at bert-base-multilingual-cased and are newly initialized: ['classifier.weight', 'classifier.bias']\n",
            "You should probably TRAIN this model on a down-stream task to be able to use it for predictions and inference.\n"
          ]
        }
      ]
    },
    {
      "cell_type": "code",
      "source": [
        "train_dataloader = generate_data_loader(args.train_path, tokenizer, args)\n",
        "validation_dataloader = generate_data_loader(args.valid_path, tokenizer, args)"
      ],
      "metadata": {
        "colab": {
          "base_uri": "https://localhost:8080/"
        },
        "id": "xMAhDeUlJ7-6",
        "outputId": "9212cc75-7047-4881-d4a7-59ace55b75bb"
      },
      "execution_count": 11,
      "outputs": [
        {
          "output_type": "stream",
          "name": "stderr",
          "text": [
            "Tokenizing: 100%|██████████| 672746/672746 [01:06<00:00, 10060.48it/s]\n",
            "Converting tokens to ids: 100%|██████████| 672746/672746 [00:10<00:00, 63008.01it/s]\n"
          ]
        },
        {
          "output_type": "stream",
          "name": "stdout",
          "text": [
            "Padding sequences...\n"
          ]
        },
        {
          "output_type": "stream",
          "name": "stderr",
          "text": [
            "Generating attention masks: 100%|██████████| 672746/672746 [00:42<00:00, 15902.55it/s]\n",
            "Tokenizing: 100%|██████████| 62104/62104 [00:05<00:00, 11333.08it/s]\n",
            "Converting tokens to ids: 100%|██████████| 62104/62104 [00:00<00:00, 79600.27it/s]\n"
          ]
        },
        {
          "output_type": "stream",
          "name": "stdout",
          "text": [
            "Padding sequences...\n"
          ]
        },
        {
          "output_type": "stream",
          "name": "stderr",
          "text": [
            "Generating attention masks: 100%|██████████| 62104/62104 [00:03<00:00, 17353.80it/s]\n"
          ]
        }
      ]
    },
    {
      "cell_type": "code",
      "source": [
        "train(model, args, train_dataloader, validation_dataloader)"
      ],
      "metadata": {
        "id": "p7oAiNWVPDYJ"
      },
      "execution_count": null,
      "outputs": []
    }
  ],
  "metadata": {
    "kernelspec": {
      "display_name": "Python 3.8.10 64-bit",
      "language": "python",
      "name": "python3"
    },
    "language_info": {
      "name": "python",
      "version": "3.8.10"
    },
    "orig_nbformat": 4,
    "vscode": {
      "interpreter": {
        "hash": "916dbcbb3f70747c44a77c7bcd40155683ae19c65e1c03b4aa3499c5328201f1"
      }
    },
    "colab": {
      "provenance": [],
      "include_colab_link": true
    },
    "accelerator": "GPU",
    "gpuClass": "standard"
  },
  "nbformat": 4,
  "nbformat_minor": 0
}