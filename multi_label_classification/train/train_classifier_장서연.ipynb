{
  "cells": [
    {
      "cell_type": "markdown",
      "metadata": {
        "id": "rxoBTI7SCcWm"
      },
      "source": [
        "# 입력된 발화의 지역 방언을 구분하는 모델 학습시키기\n",
        "\n",
        "- AI Hub에서 다운로드 받아 생성한 데이터셋을 이용해 입력된 텍스트가 표준어 발화인지 아니면 특정 지역의 방언인지 분류할 수 있는 모델을 학습시켜 봅시다.\n",
        "- 먼저 필요한 라이브러리를 설치 및 import해 줍니다."
      ]
    },
    {
      "cell_type": "code",
      "execution_count": 1,
      "metadata": {
        "colab": {
          "base_uri": "https://localhost:8080/"
        },
        "id": "yzHvV4HlGw4r",
        "outputId": "1be03458-b518-42d8-f764-16d9cfd4cae5"
      },
      "outputs": [
        {
          "output_type": "stream",
          "name": "stdout",
          "text": [
            "Looking in indexes: https://pypi.org/simple, https://us-python.pkg.dev/colab-wheels/public/simple/\n",
            "Requirement already satisfied: transformers in /usr/local/lib/python3.7/dist-packages (4.24.0)\n",
            "Requirement already satisfied: numpy>=1.17 in /usr/local/lib/python3.7/dist-packages (from transformers) (1.21.6)\n",
            "Requirement already satisfied: importlib-metadata in /usr/local/lib/python3.7/dist-packages (from transformers) (4.13.0)\n",
            "Requirement already satisfied: tokenizers!=0.11.3,<0.14,>=0.11.1 in /usr/local/lib/python3.7/dist-packages (from transformers) (0.13.2)\n",
            "Requirement already satisfied: tqdm>=4.27 in /usr/local/lib/python3.7/dist-packages (from transformers) (4.64.1)\n",
            "Requirement already satisfied: huggingface-hub<1.0,>=0.10.0 in /usr/local/lib/python3.7/dist-packages (from transformers) (0.11.0)\n",
            "Requirement already satisfied: regex!=2019.12.17 in /usr/local/lib/python3.7/dist-packages (from transformers) (2022.6.2)\n",
            "Requirement already satisfied: pyyaml>=5.1 in /usr/local/lib/python3.7/dist-packages (from transformers) (6.0)\n",
            "Requirement already satisfied: filelock in /usr/local/lib/python3.7/dist-packages (from transformers) (3.8.0)\n",
            "Requirement already satisfied: packaging>=20.0 in /usr/local/lib/python3.7/dist-packages (from transformers) (21.3)\n",
            "Requirement already satisfied: requests in /usr/local/lib/python3.7/dist-packages (from transformers) (2.23.0)\n",
            "Requirement already satisfied: typing-extensions>=3.7.4.3 in /usr/local/lib/python3.7/dist-packages (from huggingface-hub<1.0,>=0.10.0->transformers) (4.1.1)\n",
            "Requirement already satisfied: pyparsing!=3.0.5,>=2.0.2 in /usr/local/lib/python3.7/dist-packages (from packaging>=20.0->transformers) (3.0.9)\n",
            "Requirement already satisfied: zipp>=0.5 in /usr/local/lib/python3.7/dist-packages (from importlib-metadata->transformers) (3.10.0)\n",
            "Requirement already satisfied: certifi>=2017.4.17 in /usr/local/lib/python3.7/dist-packages (from requests->transformers) (2022.9.24)\n",
            "Requirement already satisfied: idna<3,>=2.5 in /usr/local/lib/python3.7/dist-packages (from requests->transformers) (2.10)\n",
            "Requirement already satisfied: urllib3!=1.25.0,!=1.25.1,<1.26,>=1.21.1 in /usr/local/lib/python3.7/dist-packages (from requests->transformers) (1.24.3)\n",
            "Requirement already satisfied: chardet<4,>=3.0.2 in /usr/local/lib/python3.7/dist-packages (from requests->transformers) (3.0.4)\n"
          ]
        }
      ],
      "source": [
        "!pip install transformers\n",
        "\n",
        "import os\n",
        "import random\n",
        "import easydict\n",
        "import requests\n",
        "import torch\n",
        "import numpy as np\n",
        "import pandas as pd\n",
        "\n",
        "import random\n",
        "import csv\n",
        "\n",
        "from tqdm import tqdm\n",
        "from transformers import AdamW, get_linear_schedule_with_warmup\n",
        "from torch.utils.data import TensorDataset, DataLoader, RandomSampler, SequentialSampler\n",
        "from keras_preprocessing.sequence import pad_sequences\n",
        "from transformers import AutoTokenizer, AutoModelForSequenceClassification"
      ]
    },
    {
      "cell_type": "markdown",
      "metadata": {
        "id": "sBSOt-66CcWq"
      },
      "source": [
        "- 다음은 학습 과정에서 데이터의 전처리와 배치 단위 입력을 수월하게 처리해줄 수 있게 하는 DataLoader를 이용하여 모델 학습을 위한 데이터를 전처리하는 함수입니다.\n",
        "- generate_data_loader를 호출하면 입력된 파일 경로에서 파일을 읽어와 적절한 토크나이징을 진행하고 args에 정의되어 있는 크기만큼 배치 단위로 데이터를 제공할 수 있는 iteratable한 DataLoader 객체를 반환하게 됩니다."
      ]
    },
    {
      "cell_type": "code",
      "execution_count": 2,
      "metadata": {
        "id": "G8mG8ElvGw4t"
      },
      "outputs": [],
      "source": [
        "def generate_data_loader(file_path, tokenizer, args):\n",
        "    def get_input_ids(data):\n",
        "        document_bert = [\"[CLS] \" + str(s) + \" [SEP]\" for s in data]\n",
        "        tokenized_texts = [tokenizer.tokenize(s) for s in tqdm(document_bert, \"Tokenizing\")]\n",
        "        input_ids = [tokenizer.convert_tokens_to_ids(x) for x in tqdm(tokenized_texts, \"Converting tokens to ids\")]\n",
        "        print(\"Padding sequences...\")\n",
        "        input_ids = pad_sequences(input_ids, maxlen=args.maxlen, dtype='long', truncating='post', padding='post')\n",
        "        return input_ids\n",
        "\n",
        "    def get_attention_masks(input_ids):\n",
        "        attention_masks = []\n",
        "        for seq in tqdm(input_ids, \"Generating attention masks\"):\n",
        "            seq_mask = [float(i > 0) for i in seq]\n",
        "            attention_masks.append(seq_mask)\n",
        "        return attention_masks\n",
        "\n",
        "    def get_data_loader(inputs, masks, labels, batch_size=args.batch):\n",
        "        data = TensorDataset(torch.tensor(inputs), torch.tensor(masks), torch.tensor(labels))\n",
        "        #sampler = RandomSampler(data)\n",
        "        sampler = SequentialSampler(data)\n",
        "        data_loader = DataLoader(data, sampler=sampler, batch_size=batch_size)\n",
        "        return data_loader\n",
        "\n",
        "    data_df = pd.read_csv(file_path)\n",
        "    input_ids = get_input_ids(data_df['contents'].values)\n",
        "    attention_masks = get_attention_masks(input_ids)\n",
        "    data_loader = get_data_loader(input_ids, attention_masks, data_df['label'].values if args.mode=='train' else [-1]*len(data_df))\n",
        "\n",
        "    return data_loader"
      ]
    },
    {
      "cell_type": "markdown",
      "metadata": {
        "id": "98fSFgXPCcWs"
      },
      "source": [
        "- 아래 함수는 모델을 학습/추론하는 과정에서 필요한 보조 함수들입니다.\n",
        "- save는 torch 라이브러리의 state_dict를 저장하는 기능을 이용해 모델의 가중치만 주어진 경로에 저장하는 함수입니다.\n",
        "- flat_accuracy는 모델이 예측한 결과값과 정답 라벨을 비교하여 얼마나 정확하게 맞혔는지 정확도를 구해주는 함수입니다."
      ]
    },
    {
      "cell_type": "code",
      "execution_count": 3,
      "metadata": {
        "id": "TfO9ISW2Gw4u"
      },
      "outputs": [],
      "source": [
        "def save(model, dir_name):\n",
        "    os.makedirs(dir_name, exist_ok=True)\n",
        "    torch.save(model.state_dict(), os.path.join(dir_name, 'model.pth'))\n",
        "\n",
        "def flat_accuracy(preds, labels):\n",
        "    pred_flat = np.argmax(preds, axis=1).flatten()\n",
        "    labels_flat = labels.flatten()\n",
        "    return np.sum(pred_flat == labels_flat) / len(labels_flat)"
      ]
    },
    {
      "cell_type": "markdown",
      "metadata": {
        "id": "19xHdV2yCcWt"
      },
      "source": [
        "- predict는 학습된 모델을 평가하기 위한 함수입니다. 데이터 입력을 DataLoader 형식으로 받아 모델이 예측한 값을 받아온 뒤 flat_accuracy를 호출하여 정답 라벨과 비교한 정확도를 계산합니다.\n",
        "- 모델의 추론 과정(Validation 또는 Test 과정)에서 back propagation은 일어나지 않기 때문에, 계산 속도를 높이기 위해 torch.no_grad()를 실행하여 모델에 데이터를 입력해도 gradient가 따로 계산되어 저장되지 않도록 했습니다."
      ]
    },
    {
      "cell_type": "code",
      "execution_count": 4,
      "metadata": {
        "id": "wqQfejZyGw4u"
      },
      "outputs": [],
      "source": [
        "def predict(model, args, data_loader):\n",
        "    print('start predict')\n",
        "    model.eval()\n",
        "\n",
        "    eval_accuracy = []\n",
        "    logits = []\n",
        "    \n",
        "    for step, batch in tqdm(enumerate(data_loader)):\n",
        "        batch = tuple(t.to(args.device) for t in batch)\n",
        "        b_input_ids, b_input_mask, b_labels = batch\n",
        "        with torch.no_grad():\n",
        "            outputs = model(b_input_ids,\n",
        "                            #token_type_ids=None,\n",
        "                            attention_mask=b_input_mask)\n",
        "        logit = outputs[0]\n",
        "\n",
        "        logit = logit.detach().cpu().numpy()\n",
        "        label = b_labels.cpu().numpy()\n",
        "\n",
        "        logits.append(logit)\n",
        "\n",
        "        accuracy = flat_accuracy(logit, label)\n",
        "        eval_accuracy.append(accuracy)\n",
        "\n",
        "    logits = np.vstack(logits)\n",
        "    predict_labels = np.argmax(logits, axis=1)\n",
        "    return predict_labels, np.mean(eval_accuracy)"
      ]
    },
    {
      "cell_type": "markdown",
      "metadata": {
        "id": "eRlgMVV-CcWu"
      },
      "source": [
        "- 이 노트북에서 가장 중요한 부분인 train은 모델을 학습시키기 위한 함수입니다. Train data와 Valid data를 각각 DataLoader 형태로 입력받아 학습과 검증 과정을 거치게 됩니다.\n",
        "- 개선된 optimization 알고리즘인 AdamW와 learning rate를 선형적으로 감소시키는 linear scheduler를 이용하여 학습을 진행합니다.\n",
        "- 한 epoch가 종료되면 valid_loader를 이용해 predict를 호출하여 validation accuracy를 계산합니다.\n",
        "- 대부분의 PyTorch를 활용한 모델 학습 과정은 이 함수와 비슷한 과정을 거쳐 진행되니 패턴에 익숙해지면 좋습니다."
      ]
    },
    {
      "cell_type": "code",
      "execution_count": 5,
      "metadata": {
        "id": "twbi-hjmGw4v"
      },
      "outputs": [],
      "source": [
        "def train(model, args, train_loader, valid_loader):\n",
        "    optimizer = AdamW(model.parameters(),\n",
        "                      lr=args.lr,\n",
        "                      eps=args.eps\n",
        "                      )\n",
        "    total_steps = len(train_loader) * args.epochs\n",
        "\n",
        "    scheduler = get_linear_schedule_with_warmup(optimizer,\n",
        "                                                num_warmup_steps=0,\n",
        "                                                num_training_steps=total_steps)\n",
        "\n",
        "    seed_val = 42\n",
        "    random.seed(seed_val)\n",
        "    np.random.seed(seed_val)\n",
        "    torch.manual_seed(seed_val)\n",
        "    torch.cuda.manual_seed_all(seed_val)\n",
        "\n",
        "    print('start training')\n",
        "    for epoch in range(args.epochs):\n",
        "        model.train()\n",
        "        train_loss = []\n",
        "        for step, batch in tqdm(enumerate(train_loader), f\"training epoch {epoch}\", total=len(train_loader)):\n",
        "            model.zero_grad()\n",
        "            batch = tuple(t.to(args.device) for t in batch)\n",
        "            b_input_ids, b_input_mask, b_labels = batch\n",
        "            outputs = model(b_input_ids,\n",
        "                            #token_type_ids=None,\n",
        "                            attention_mask=b_input_mask,\n",
        "                            labels=b_labels)\n",
        "            loss = outputs[0]\n",
        "            train_loss.append(loss.item())\n",
        "            loss.backward()\n",
        "            torch.nn.utils.clip_grad_norm_(model.parameters(), 1.0)\n",
        "            optimizer.step()\n",
        "            scheduler.step()\n",
        "\n",
        "        avg_train_loss = np.mean(train_loss)\n",
        "        _, avg_val_accuracy = predict(model, args, valid_loader)\n",
        "        print(\"Epoch {0},  Average training loss: {1:.4f} , Validation accuracy : {2:.4f}\"\\\n",
        "              .format(epoch, avg_train_loss, avg_val_accuracy))\n",
        "\n",
        "        save(model, \"./saved_checkpoints/\" + str(epoch))\n",
        "    return model"
      ]
    },
    {
      "cell_type": "markdown",
      "metadata": {
        "id": "eQ94RwlbCcWv"
      },
      "source": [
        "- 필요한 함수를 정의 완료했으니 학습을 본격적으로 진행해 봅시다.\n",
        "- args에는 학습 과정에서 지정해야 할 각종 하이퍼파라미터(배치 사이즈, learning rate 등등)와 데이터 파일 경로 등을 입력해둬 코드 실행 과정에서 사용할 수 있도록 합니다."
      ]
    },
    {
      "cell_type": "code",
      "execution_count": 6,
      "metadata": {
        "id": "soqhgEExGw4w"
      },
      "outputs": [],
      "source": [
        "args = args = easydict.EasyDict({\n",
        "  \"train_path\" : \"./data/train_data.csv\",\n",
        "  \"valid_path\" : \"./data/valid_data.csv\",\n",
        "  \"device\" : 'cpu',\n",
        "  \"mode\" : \"train\",\n",
        "  \"batch\" : 64,\n",
        "  \"maxlen\" : 32,\n",
        "  \"lr\" : 2e-5,\n",
        "  \"eps\" : 1e-8,\n",
        "  \"epochs\" : 3,\n",
        "  \"model_ckpt\" : \"monologg/koelectra-small-v3-discriminator\",\n",
        "})\n",
        "\n",
        "if torch.cuda.is_available():\n",
        "    args.device = 'cuda'"
      ]
    },
    {
      "cell_type": "markdown",
      "metadata": {
        "id": "iQakEB52CcWv"
      },
      "source": [
        "- 전처리가 완료된 데이터는 우리 프로젝트의 repo에 업로드되어 있어, colab에서 이 노트북을 실행시키더라도 바로 다운로드받아 사용할 수 있습니다.\n",
        "- AI Hub에 업로드되어 있는 경상도 방언 데이터셋을 어떻게 전처리했는지 코드가 궁금한 사람은 우리 프로젝트 repo 안의 data_preprocessing 디렉토리를 참고하면 되겠습니다."
      ]
    },
    {
      "cell_type": "code",
      "execution_count": 11,
      "metadata": {
        "id": "TOPktFqTJu-m"
      },
      "outputs": [],
      "source": [
        "# download data\n",
        "os.makedirs('./data', exist_ok=True)\n",
        "\n",
        "train_url = \"https://github.com/GirinMan/HAI-DialectTranslator/raw/main/multi_label_classification/datasets/train_data.csv\"\n",
        "valid_url = \"https://github.com/GirinMan/HAI-DialectTranslator/raw/main/multi_label_classification/datasets/valid_data.csv\"\n",
        "\n",
        "train_response = requests.get(train_url, allow_redirects=True)\n",
        "valid_response = requests.get(valid_url, allow_redirects=True)\n",
        "\n",
        "open(args.train_path, 'wb').write(train_response.content)\n",
        "open(args.valid_path, 'wb').write(valid_response.content)\n",
        "\n",
        "df = pd.read_csv(args.train_path, header = 0)\n",
        "ds = df.sample(frac = 1)\n",
        "with open(args.train_path, 'r+') as f:\n",
        "  f.truncate()\n",
        "ds.to_csv(args.train_path)\n",
        "\n",
        "\n",
        "\n",
        "\n",
        "# f = open(args.train_path, 'r')\n",
        "# rea = csv.reader(f)\n",
        "# data = list()\n",
        "# start = False\n",
        "# list0 = list()\n",
        "# for row in rea:\n",
        "#   if start == False:\n",
        "#     list0 = row\n",
        "#     start = True\n",
        "#     continue\n",
        "#   data.append(row)\n",
        "# random.shuffle(data)\n",
        "# f.close()\n",
        "\n",
        "# with open(args.train_path, 'w') as f:\n",
        "#   writer = csv.writer(f)\n",
        "#   writer.writerow(list0)\n",
        "#   writer.writerow(data)\n",
        "\n",
        "\n",
        "# f = open(args.train_path, 'rb')\n",
        "# lines = f.readlines()\n",
        "# df = pd.read_csv(args.train_path)\n",
        "\n",
        "# rand = []\n",
        "# rows = []\n",
        "# for i in range(len(df) - 1):\n",
        "#   n = random.randint(1, len(df)-1)\n",
        "#   while n in rand:\n",
        "#     n = random.randint(1, len(df)-1)\n",
        "#   print(n)\n",
        "#   rand.append(n)\n",
        "#   rows.append(lines[n])\n",
        "\n",
        "# f = open(args.train_path, 'wb')\n",
        "# f.truncate(0)\n",
        "\n",
        "# wr = csv.writer(f)\n",
        "\n",
        "# wr.writerows(lines[0])\n",
        "# wr.writerows(rows)"
      ]
    },
    {
      "cell_type": "markdown",
      "metadata": {
        "id": "hlCscJoxCcWw"
      },
      "source": [
        "- Train/Valid 데이터는 각각 content, label 두 개의 column을 가지는 csv 파일 형태로 이루어져 있습니다. conent는 평가 대상 발화 텍스트가, label은 방언 여부를 나타내는 정수 라벨입니다(표준어일 경우 0, 경상도 방언일 경우 1, 제주도 방언일 경우 2, 전라도 방언일 경우 3)."
      ]
    },
    {
      "cell_type": "code",
      "execution_count": 12,
      "metadata": {
        "id": "Fj1jfARMCcWw",
        "colab": {
          "base_uri": "https://localhost:8080/"
        },
        "outputId": "f707b22e-ba2a-46e7-8a0d-73e6da010be5"
      },
      "outputs": [
        {
          "output_type": "stream",
          "name": "stdout",
          "text": [
            "   Unnamed: 0                                 contents  label\n",
            "0     1156618                                  어 나 가봤어      0\n",
            "1      564848                 그양 음악은 그냥 내가 한 진짜 취미로 해서      1\n",
            "2      863587                               예 상품 줬주 게?      2\n",
            "3     1726443                아니 그런데 요 핸드폰 게임이 내가 놀랜 것이      0\n",
            "4     1347243  음 그냥 나도 막 결혼해야겠다 이런 생각 없어 걍 뭐 잘 맞는 사람이나      3\n",
            "         Unnamed: 0                                 contents  label\n",
            "1942469      786174               거 저기 사((xxxxxx)) 뭐에 온것아니야?      0\n",
            "1942470      912447                        그거 국가비 그 검찰에 송치됐댄      2\n",
            "1942471      597757                          음~ 앞으로 조금 기대돼요.      0\n",
            "1942472     1451606  머리 스타일을 보면은 너무 부럽기도 하고 이쁘기도 하고 한편으로는 조금      0\n",
            "1942473      851893                    그렇게 컴퓨터를 다룰지를 모르는 거야.      0\n"
          ]
        }
      ],
      "source": [
        "train_data_df = pd.read_csv(args.train_path)\n",
        "print(train_data_df.head())\n",
        "print(train_data_df.tail())"
      ]
    },
    {
      "cell_type": "markdown",
      "metadata": {
        "id": "ScKz85rzCcWw"
      },
      "source": [
        "- 이제 학습을 위한 모델을 준비해 보겠습니다.\n",
        "- args에 정의되어 있는 모델의 체크포인트를 이용해 Huggingface hub로부터 sequence classification을 위한 모델과 토크나이저를 불러온 뒤, 모델을 GPU 메모리로 옮깁니다.\n",
        "- 분류해야 하는 class의 종류가 4가지(표준어, 경상도, 제주도, 전라도)이기 때문에, num_labels를 4로 지정해 주었습니다."
      ]
    },
    {
      "cell_type": "code",
      "execution_count": 13,
      "metadata": {
        "id": "iy2KULr5J6mE",
        "colab": {
          "base_uri": "https://localhost:8080/"
        },
        "outputId": "82c8f55a-3260-4a55-ef4a-e1d7bdf3e71c"
      },
      "outputs": [
        {
          "output_type": "stream",
          "name": "stderr",
          "text": [
            "Some weights of the model checkpoint at monologg/koelectra-small-v3-discriminator were not used when initializing ElectraForSequenceClassification: ['discriminator_predictions.dense.weight', 'discriminator_predictions.dense_prediction.bias', 'discriminator_predictions.dense.bias', 'discriminator_predictions.dense_prediction.weight']\n",
            "- This IS expected if you are initializing ElectraForSequenceClassification from the checkpoint of a model trained on another task or with another architecture (e.g. initializing a BertForSequenceClassification model from a BertForPreTraining model).\n",
            "- This IS NOT expected if you are initializing ElectraForSequenceClassification from the checkpoint of a model that you expect to be exactly identical (initializing a BertForSequenceClassification model from a BertForSequenceClassification model).\n",
            "Some weights of ElectraForSequenceClassification were not initialized from the model checkpoint at monologg/koelectra-small-v3-discriminator and are newly initialized: ['classifier.out_proj.weight', 'classifier.dense.weight', 'classifier.out_proj.bias', 'classifier.dense.bias']\n",
            "You should probably TRAIN this model on a down-stream task to be able to use it for predictions and inference.\n"
          ]
        }
      ],
      "source": [
        "# load model&tokenizer\n",
        "model = AutoModelForSequenceClassification.from_pretrained(args.model_ckpt, num_labels=4)\n",
        "model.to(args.device)\n",
        "tokenizer = AutoTokenizer.from_pretrained(args.model_ckpt)"
      ]
    },
    {
      "cell_type": "markdown",
      "metadata": {
        "id": "VGFn0menCcWx"
      },
      "source": [
        "- 미리 정의된 generate_data_loader 함수를 이용해 train/valid 데이터에 대한 DataLoader를 생성합니다."
      ]
    },
    {
      "cell_type": "code",
      "execution_count": 14,
      "metadata": {
        "id": "xMAhDeUlJ7-6",
        "colab": {
          "base_uri": "https://localhost:8080/"
        },
        "outputId": "4d95ab03-1d45-42e6-f68e-358cda5d4c1e"
      },
      "outputs": [
        {
          "output_type": "stream",
          "name": "stderr",
          "text": [
            "Tokenizing: 100%|██████████| 1942474/1942474 [04:25<00:00, 7318.88it/s]\n",
            "Converting tokens to ids: 100%|██████████| 1942474/1942474 [00:27<00:00, 70524.23it/s]\n"
          ]
        },
        {
          "output_type": "stream",
          "name": "stdout",
          "text": [
            "Padding sequences...\n"
          ]
        },
        {
          "output_type": "stream",
          "name": "stderr",
          "text": [
            "Generating attention masks: 100%|██████████| 1942474/1942474 [00:42<00:00, 46222.69it/s]\n",
            "Tokenizing: 100%|██████████| 440166/440166 [00:55<00:00, 7872.95it/s]\n",
            "Converting tokens to ids: 100%|██████████| 440166/440166 [00:05<00:00, 88006.80it/s]\n"
          ]
        },
        {
          "output_type": "stream",
          "name": "stdout",
          "text": [
            "Padding sequences...\n"
          ]
        },
        {
          "output_type": "stream",
          "name": "stderr",
          "text": [
            "Generating attention masks: 100%|██████████| 440166/440166 [00:09<00:00, 46936.37it/s]\n"
          ]
        }
      ],
      "source": [
        "train_dataloader = generate_data_loader(args.train_path, tokenizer, args)\n",
        "validation_dataloader = generate_data_loader(args.valid_path, tokenizer, args)"
      ]
    },
    {
      "cell_type": "markdown",
      "metadata": {
        "id": "UEAt94NRCcWx"
      },
      "source": [
        "- 모델과 하이퍼파라미터 그리고 데이터가 준비되었으니 학습을 진행시켜 봅시다.\n",
        "- 각 epoch가 끝날 때 마다 모델의 가중치를 저장하고 validation 결과를 출력합니다. 이를 바탕으로 최적의 결과를 가지는 모델을 선택할 수 있습니다."
      ]
    },
    {
      "cell_type": "code",
      "execution_count": null,
      "metadata": {
        "id": "p7oAiNWVPDYJ",
        "colab": {
          "base_uri": "https://localhost:8080/"
        },
        "outputId": "e39ecb1c-c0a6-4176-8a56-d4eaaa55c268"
      },
      "outputs": [
        {
          "output_type": "stream",
          "name": "stderr",
          "text": [
            "/usr/local/lib/python3.7/dist-packages/transformers/optimization.py:310: FutureWarning: This implementation of AdamW is deprecated and will be removed in a future version. Use the PyTorch implementation torch.optim.AdamW instead, or set `no_deprecation_warning=True` to disable this warning\n",
            "  FutureWarning,\n"
          ]
        },
        {
          "output_type": "stream",
          "name": "stdout",
          "text": [
            "start training\n"
          ]
        },
        {
          "output_type": "stream",
          "name": "stderr",
          "text": [
            "training epoch 0: 100%|██████████| 30352/30352 [32:53<00:00, 15.38it/s]\n"
          ]
        },
        {
          "output_type": "stream",
          "name": "stdout",
          "text": [
            "start predict\n"
          ]
        },
        {
          "output_type": "stream",
          "name": "stderr",
          "text": [
            "6878it [02:11, 52.25it/s]\n"
          ]
        },
        {
          "output_type": "stream",
          "name": "stdout",
          "text": [
            "Epoch 0,  Average training loss: 0.4045 , Validation accuracy : 0.7777\n"
          ]
        },
        {
          "output_type": "stream",
          "name": "stderr",
          "text": [
            "training epoch 1:  15%|█▌        | 4570/30352 [04:56<27:27, 15.65it/s]"
          ]
        }
      ],
      "source": [
        "model = train(model, args, train_dataloader, validation_dataloader)"
      ]
    },
    {
      "cell_type": "code",
      "execution_count": null,
      "metadata": {
        "id": "GmTeT5_BQJwc"
      },
      "outputs": [],
      "source": [
        "input_txt = \"안녕하세요\"\n",
        "\n",
        "test = torch.tensor([tokenizer.encode(input_txt)]).to(args.device)\n",
        "\n",
        "with torch.no_grad():\n",
        "    preds = model(test).logits.cpu()\n",
        "\n",
        "result = np.argmax(preds, axis=1).item()\n",
        "\n",
        "region = [\"경상도\", \"제주도\", \"전라도\"]\n",
        "\n",
        "print('입력된 문장 \"' + input_txt + '\"은/는 ', end='')\n",
        "if result:\n",
        "    print(region[result-1], \"방언입니다.\")\n",
        "else:\n",
        "    print(\"표준어 발화입니다.\")"
      ]
    }
  ],
  "metadata": {
    "accelerator": "GPU",
    "colab": {
      "provenance": []
    },
    "gpuClass": "standard",
    "kernelspec": {
      "display_name": "Python 3.9.13 ('base')",
      "language": "python",
      "name": "python3"
    },
    "language_info": {
      "codemirror_mode": {
        "name": "ipython",
        "version": 3
      },
      "file_extension": ".py",
      "mimetype": "text/x-python",
      "name": "python",
      "nbconvert_exporter": "python",
      "pygments_lexer": "ipython3",
      "version": "3.9.13"
    },
    "vscode": {
      "interpreter": {
        "hash": "ad2bdc8ecc057115af97d19610ffacc2b4e99fae6737bb82f5d7fb13d2f2c186"
      }
    }
  },
  "nbformat": 4,
  "nbformat_minor": 0
}