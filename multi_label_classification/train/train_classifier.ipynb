{
  "cells": [
    {
      "cell_type": "markdown",
      "metadata": {
        "id": "view-in-github",
        "colab_type": "text"
      },
      "source": [
        "<a href=\"https://colab.research.google.com/github/GirinMan/HAI-DialectTranslator/blob/main/multi_label_classification/train/train_classifier.ipynb\" target=\"_parent\"><img src=\"https://colab.research.google.com/assets/colab-badge.svg\" alt=\"Open In Colab\"/></a>"
      ]
    },
    {
      "cell_type": "markdown",
      "metadata": {
        "id": "rxoBTI7SCcWm"
      },
      "source": [
        "# 입력된 발화의 지역 방언을 구분하는 모델 학습시키기\n",
        "\n",
        "- AI Hub에서 다운로드 받아 생성한 데이터셋을 이용해 입력된 텍스트가 표준어 발화인지 아니면 특정 지역의 방언인지 분류할 수 있는 모델을 학습시켜 봅시다.\n",
        "- 먼저 필요한 라이브러리를 설치 및 import해 줍니다."
      ]
    },
    {
      "cell_type": "code",
      "execution_count": null,
      "metadata": {
        "colab": {
          "base_uri": "https://localhost:8080/"
        },
        "id": "yzHvV4HlGw4r",
        "outputId": "b70e57dc-c019-45ea-a800-e93a2cb2cb7f"
      },
      "outputs": [
        {
          "name": "stdout",
          "output_type": "stream",
          "text": [
            "Requirement already satisfied: transformers in c:\\programdata\\anaconda3\\lib\\site-packages (4.23.1)\n",
            "Requirement already satisfied: tqdm>=4.27 in c:\\programdata\\anaconda3\\lib\\site-packages (from transformers) (4.64.1)\n",
            "Requirement already satisfied: pyyaml>=5.1 in c:\\programdata\\anaconda3\\lib\\site-packages (from transformers) (6.0)\n",
            "Requirement already satisfied: tokenizers!=0.11.3,<0.14,>=0.11.1 in c:\\programdata\\anaconda3\\lib\\site-packages (from transformers) (0.13.1)\n",
            "Requirement already satisfied: packaging>=20.0 in c:\\programdata\\anaconda3\\lib\\site-packages (from transformers) (21.3)\n",
            "Requirement already satisfied: requests in c:\\programdata\\anaconda3\\lib\\site-packages (from transformers) (2.28.1)\n",
            "Requirement already satisfied: filelock in c:\\programdata\\anaconda3\\lib\\site-packages (from transformers) (3.6.0)\n",
            "Requirement already satisfied: huggingface-hub<1.0,>=0.10.0 in c:\\programdata\\anaconda3\\lib\\site-packages (from transformers) (0.10.1)\n",
            "Requirement already satisfied: numpy>=1.17 in c:\\programdata\\anaconda3\\lib\\site-packages (from transformers) (1.21.5)\n",
            "Requirement already satisfied: regex!=2019.12.17 in c:\\programdata\\anaconda3\\lib\\site-packages (from transformers) (2022.7.9)\n",
            "Requirement already satisfied: typing-extensions>=3.7.4.3 in c:\\programdata\\anaconda3\\lib\\site-packages (from huggingface-hub<1.0,>=0.10.0->transformers) (4.3.0)\n",
            "Requirement already satisfied: pyparsing!=3.0.5,>=2.0.2 in c:\\programdata\\anaconda3\\lib\\site-packages (from packaging>=20.0->transformers) (3.0.9)\n",
            "Requirement already satisfied: colorama in c:\\programdata\\anaconda3\\lib\\site-packages (from tqdm>=4.27->transformers) (0.4.5)\n",
            "Requirement already satisfied: urllib3<1.27,>=1.21.1 in c:\\programdata\\anaconda3\\lib\\site-packages (from requests->transformers) (1.26.11)\n",
            "Requirement already satisfied: certifi>=2017.4.17 in c:\\programdata\\anaconda3\\lib\\site-packages (from requests->transformers) (2022.9.14)\n",
            "Requirement already satisfied: charset-normalizer<3,>=2 in c:\\programdata\\anaconda3\\lib\\site-packages (from requests->transformers) (2.0.4)\n",
            "Requirement already satisfied: idna<4,>=2.5 in c:\\programdata\\anaconda3\\lib\\site-packages (from requests->transformers) (3.3)\n"
          ]
        }
      ],
      "source": [
        "!pip install transformers\n",
        "\n",
        "import os\n",
        "import random\n",
        "import easydict\n",
        "import requests\n",
        "import torch\n",
        "import numpy as np\n",
        "import pandas as pd\n",
        "\n",
        "from tqdm import tqdm\n",
        "from transformers import AdamW, get_linear_schedule_with_warmup\n",
        "from torch.utils.data import TensorDataset, DataLoader, RandomSampler, SequentialSampler\n",
        "from keras_preprocessing.sequence import pad_sequences\n",
        "from transformers import AutoTokenizer, AutoModelForSequenceClassification"
      ]
    },
    {
      "cell_type": "markdown",
      "metadata": {
        "id": "sBSOt-66CcWq"
      },
      "source": [
        "- 다음은 학습 과정에서 데이터의 전처리와 배치 단위 입력을 수월하게 처리해줄 수 있게 하는 DataLoader를 이용하여 모델 학습을 위한 데이터를 전처리하는 함수입니다.\n",
        "- generate_data_loader를 호출하면 입력된 파일 경로에서 파일을 읽어와 적절한 토크나이징을 진행하고 args에 정의되어 있는 크기만큼 배치 단위로 데이터를 제공할 수 있는 iteratable한 DataLoader 객체를 반환하게 됩니다."
      ]
    },
    {
      "cell_type": "code",
      "execution_count": null,
      "metadata": {
        "id": "G8mG8ElvGw4t"
      },
      "outputs": [],
      "source": [
        "def generate_data_loader(file_path, tokenizer, args):\n",
        "    def get_input_ids(data):\n",
        "        document_bert = [\"[CLS] \" + str(s) + \" [SEP]\" for s in data]\n",
        "        tokenized_texts = [tokenizer.tokenize(s) for s in tqdm(document_bert, \"Tokenizing\")]\n",
        "        input_ids = [tokenizer.convert_tokens_to_ids(x) for x in tqdm(tokenized_texts, \"Converting tokens to ids\")]\n",
        "        print(\"Padding sequences...\")\n",
        "        input_ids = pad_sequences(input_ids, maxlen=args.maxlen, dtype='long', truncating='post', padding='post')\n",
        "        return input_ids\n",
        "\n",
        "    def get_attention_masks(input_ids):\n",
        "        attention_masks = []\n",
        "        for seq in tqdm(input_ids, \"Generating attention masks\"):\n",
        "            seq_mask = [float(i > 0) for i in seq]\n",
        "            attention_masks.append(seq_mask)\n",
        "        return attention_masks\n",
        "\n",
        "    def get_data_loader(inputs, masks, labels, batch_size=args.batch):\n",
        "        data = TensorDataset(torch.tensor(inputs), torch.tensor(masks), torch.tensor(labels))\n",
        "        #sampler = RandomSampler(data) if args.mode == 'train' else SequentialSampler(data)\n",
        "        sampler = SequentialSampler(data)\n",
        "        data_loader = DataLoader(data, sampler=sampler, batch_size=batch_size)\n",
        "        return data_loader\n",
        "\n",
        "    data_df = pd.read_csv(file_path)\n",
        "    input_ids = get_input_ids(data_df['contents'].values)\n",
        "    attention_masks = get_attention_masks(input_ids)\n",
        "    data_loader = get_data_loader(input_ids, attention_masks, data_df['label'].values if args.mode=='train' else [-1]*len(data_df))\n",
        "\n",
        "    return data_loader"
      ]
    },
    {
      "cell_type": "markdown",
      "metadata": {
        "id": "98fSFgXPCcWs"
      },
      "source": [
        "- 아래 함수는 모델을 학습/추론하는 과정에서 필요한 보조 함수들입니다.\n",
        "- save는 torch 라이브러리의 state_dict를 저장하는 기능을 이용해 모델의 가중치만 주어진 경로에 저장하는 함수입니다.\n",
        "- flat_accuracy는 모델이 예측한 결과값과 정답 라벨을 비교하여 얼마나 정확하게 맞혔는지 정확도를 구해주는 함수입니다."
      ]
    },
    {
      "cell_type": "code",
      "execution_count": null,
      "metadata": {
        "id": "TfO9ISW2Gw4u"
      },
      "outputs": [],
      "source": [
        "def save(model, dir_name):\n",
        "    os.makedirs(dir_name, exist_ok=True)\n",
        "    torch.save(model.state_dict(), os.path.join(dir_name, 'model.pth'))\n",
        "\n",
        "def flat_accuracy(preds, labels):\n",
        "    pred_flat = np.argmax(preds, axis=1).flatten()\n",
        "    labels_flat = labels.flatten()\n",
        "    return np.sum(pred_flat == labels_flat) / len(labels_flat)"
      ]
    },
    {
      "cell_type": "markdown",
      "metadata": {
        "id": "19xHdV2yCcWt"
      },
      "source": [
        "- predict는 학습된 모델을 평가하기 위한 함수입니다. 데이터 입력을 DataLoader 형식으로 받아 모델이 예측한 값을 받아온 뒤 flat_accuracy를 호출하여 정답 라벨과 비교한 정확도를 계산합니다.\n",
        "- 모델의 추론 과정(Validation 또는 Test 과정)에서 back propagation은 일어나지 않기 때문에, 계산 속도를 높이기 위해 torch.no_grad()를 실행하여 모델에 데이터를 입력해도 gradient가 따로 계산되어 저장되지 않도록 했습니다."
      ]
    },
    {
      "cell_type": "code",
      "execution_count": null,
      "metadata": {
        "id": "wqQfejZyGw4u"
      },
      "outputs": [],
      "source": [
        "def predict(model, args, data_loader):\n",
        "    print('start predict')\n",
        "    model.eval()\n",
        "\n",
        "    eval_accuracy = []\n",
        "    logits = []\n",
        "    \n",
        "    for step, batch in tqdm(enumerate(data_loader)):\n",
        "        batch = tuple(t.to(args.device) for t in batch)\n",
        "        b_input_ids, b_input_mask, b_labels = batch\n",
        "        with torch.no_grad():\n",
        "            outputs = model(b_input_ids,\n",
        "                            #token_type_ids=None,\n",
        "                            attention_mask=b_input_mask)\n",
        "        logit = outputs[0]\n",
        "\n",
        "        logit = logit.detach().cpu().numpy()\n",
        "        label = b_labels.cpu().numpy()\n",
        "\n",
        "        logits.append(logit)\n",
        "\n",
        "        accuracy = flat_accuracy(logit, label)\n",
        "        eval_accuracy.append(accuracy)\n",
        "\n",
        "    logits = np.vstack(logits)\n",
        "    predict_labels = np.argmax(logits, axis=1)\n",
        "    return predict_labels, np.mean(eval_accuracy)"
      ]
    },
    {
      "cell_type": "markdown",
      "metadata": {
        "id": "eRlgMVV-CcWu"
      },
      "source": [
        "- 이 노트북에서 가장 중요한 부분인 train은 모델을 학습시키기 위한 함수입니다. Train data와 Valid data를 각각 DataLoader 형태로 입력받아 학습과 검증 과정을 거치게 됩니다.\n",
        "- 개선된 optimization 알고리즘인 AdamW와 learning rate를 선형적으로 감소시키는 linear scheduler를 이용하여 학습을 진행합니다.\n",
        "- 한 epoch가 종료되면 valid_loader를 이용해 predict를 호출하여 validation accuracy를 계산합니다.\n",
        "- 대부분의 PyTorch를 활용한 모델 학습 과정은 이 함수와 비슷한 과정을 거쳐 진행되니 패턴에 익숙해지면 좋습니다."
      ]
    },
    {
      "cell_type": "code",
      "execution_count": null,
      "metadata": {
        "id": "twbi-hjmGw4v"
      },
      "outputs": [],
      "source": [
        "def train(model, args, train_loader, valid_loader):\n",
        "    optimizer = AdamW(model.parameters(),\n",
        "                      lr=args.lr,\n",
        "                      eps=args.eps\n",
        "                      )\n",
        "    total_steps = len(train_loader) * args.epochs\n",
        "\n",
        "    scheduler = get_linear_schedule_with_warmup(optimizer,\n",
        "                                                num_warmup_steps=0,\n",
        "                                                num_training_steps=total_steps)\n",
        "\n",
        "    seed_val = 42\n",
        "    random.seed(seed_val)\n",
        "    np.random.seed(seed_val)\n",
        "    torch.manual_seed(seed_val)\n",
        "    torch.cuda.manual_seed_all(seed_val)\n",
        "\n",
        "    print('start training')\n",
        "    for epoch in range(args.epochs):\n",
        "        model.train()\n",
        "        train_loss = []\n",
        "        for step, batch in tqdm(enumerate(train_loader), f\"training epoch {epoch}\", total=len(train_loader)):\n",
        "            model.zero_grad()\n",
        "            batch = tuple(t.to(args.device) for t in batch)\n",
        "            b_input_ids, b_input_mask, b_labels = batch\n",
        "            outputs = model(b_input_ids,\n",
        "                            #token_type_ids=None,\n",
        "                            attention_mask=b_input_mask,\n",
        "                            labels=b_labels)\n",
        "            loss = outputs[0]\n",
        "            train_loss.append(loss.item())\n",
        "            loss.backward()\n",
        "            torch.nn.utils.clip_grad_norm_(model.parameters(), 1.0)\n",
        "            optimizer.step()\n",
        "            scheduler.step()\n",
        "\n",
        "        avg_train_loss = np.mean(train_loss)\n",
        "        _, avg_val_accuracy = predict(model, args, valid_loader)\n",
        "        print(\"Epoch {0},  Average training loss: {1:.4f} , Validation accuracy : {2:.4f}\"\\\n",
        "              .format(epoch, avg_train_loss, avg_val_accuracy))\n",
        "\n",
        "        save(model, \"./saved_checkpoints/\" + str(epoch))\n",
        "    return model"
      ]
    },
    {
      "cell_type": "markdown",
      "metadata": {
        "id": "eQ94RwlbCcWv"
      },
      "source": [
        "- 필요한 함수를 정의 완료했으니 학습을 본격적으로 진행해 봅시다.\n",
        "- args에는 학습 과정에서 지정해야 할 각종 하이퍼파라미터(배치 사이즈, learning rate 등등)와 데이터 파일 경로 등을 입력해둬 코드 실행 과정에서 사용할 수 있도록 합니다."
      ]
    },
    {
      "cell_type": "code",
      "execution_count": null,
      "metadata": {
        "id": "soqhgEExGw4w"
      },
      "outputs": [],
      "source": [
        "args = args = easydict.EasyDict({\n",
        "  \"train_path\" : \"./data/train_data.csv\",\n",
        "  \"valid_path\" : \"./data/valid_data.csv\",\n",
        "  \"device\" : 'cuda',\n",
        "  \"mode\" : \"train\",\n",
        "  \"batch\" : 256,\n",
        "  \"maxlen\" : 16,\n",
        "  \"lr\" : 2e-5,\n",
        "  \"eps\" : 1e-8,\n",
        "  \"epochs\" : 1,\n",
        "  \"model_ckpt\" : \"monologg/distilkobert\",\n",
        "})"
      ]
    },
    {
      "cell_type": "markdown",
      "metadata": {
        "id": "iQakEB52CcWv"
      },
      "source": [
        "- 전처리가 완료된 데이터는 우리 프로젝트의 repo에 업로드되어 있어, colab에서 이 노트북을 실행시키더라도 바로 다운로드받아 사용할 수 있습니다.\n",
        "- AI Hub에 업로드되어 있는 경상도 방언 데이터셋을 어떻게 전처리했는지 코드가 궁금한 사람은 우리 프로젝트 repo 안의 data_preprocessing 디렉토리를 참고하면 되겠습니다."
      ]
    },
    {
      "cell_type": "code",
      "execution_count": null,
      "metadata": {
        "colab": {
          "base_uri": "https://localhost:8080/"
        },
        "id": "TOPktFqTJu-m",
        "outputId": "10c1823c-553e-468f-f7ac-c27679514c2e"
      },
      "outputs": [
        {
          "data": {
            "text/plain": [
              "29160658"
            ]
          },
          "execution_count": 27,
          "metadata": {},
          "output_type": "execute_result"
        }
      ],
      "source": [
        "# download data\n",
        "os.makedirs('./data', exist_ok=True)\n",
        "\n",
        "train_url = \"https://github.com/GirinMan/HAI-DialectTranslator/raw/main/multi_label_classification/datasets/train_data.csv\"\n",
        "valid_url = \"https://github.com/GirinMan/HAI-DialectTranslator/raw/main/multi_label_classification/datasets/valid_data.csv\"\n",
        "\n",
        "train_response = requests.get(train_url, allow_redirects=True)\n",
        "valid_response = requests.get(valid_url, allow_redirects=True)\n",
        "\n",
        "open(args.train_path, 'wb').write(train_response.content)\n",
        "open(args.valid_path, 'wb').write(valid_response.content)    "
      ]
    },
    {
      "cell_type": "markdown",
      "metadata": {
        "id": "hlCscJoxCcWw"
      },
      "source": [
        "- Train/Valid 데이터는 각각 content, label 두 개의 column을 가지는 csv 파일 형태로 이루어져 있습니다. conent는 평가 대상 발화 텍스트가, label은 방언 여부를 나타내는 정수 라벨입니다(표준어일 경우 0, 경상도 방언일 경우 1, 제주도 방언일 경우 2, 전라도 방언일 경우 3)."
      ]
    },
    {
      "cell_type": "code",
      "execution_count": null,
      "metadata": {
        "id": "Fj1jfARMCcWw",
        "outputId": "07eabadd-cfb2-45ba-b945-79f016df9172"
      },
      "outputs": [
        {
          "name": "stdout",
          "output_type": "stream",
          "text": [
            "                                            contents  label\n",
            "0                    머 못 먹 그리고 모든걸 다 좋아하는 데 즐기진 않는다.      0\n",
            "1                        근데 먹이가 있어야지 얘네가 먹고 자랄꺼 아니야.      0\n",
            "2                 먹이가 될수 없데 근데 머가 얘들의 먹이는 무엇이냐면 식이섬유      0\n",
            "3               그러니깐 인제 야채 과일 머 식이섬유 머 자기는 그런거 좋아하니깐      0\n",
            "4  아니 어쩔수 없이 먹는거 빼고 음식점 선 음식점 선택하기도 그렇고 같이 그 머 식사...      0\n",
            "                                             contents  label\n",
            "1942469                              저도 예측하기가 쫌 힘드네요.      3\n",
            "1942470                            그껴 보면 좋을 것 같은데 @웃음      0\n",
            "1942471   나이가 먹으면 어른이 되 가지고 좀 점잔 해 지고 그래야 되는데 그렇지는 않네      0\n",
            "1942472                            그껴 보면 좋을 것 같은디 @웃음      3\n",
            "1942473   나이가 먹으면 어른이 되 가지고 좀 점잔 해 지고 그래야 되는디 그렇지는 않네      3\n"
          ]
        }
      ],
      "source": [
        "train_data_df = pd.read_csv(args.train_path)\n",
        "print(train_data_df.head())\n",
        "print(train_data_df.tail())"
      ]
    },
    {
      "cell_type": "markdown",
      "metadata": {
        "id": "ScKz85rzCcWw"
      },
      "source": [
        "- 이제 학습을 위한 모델을 준비해 보겠습니다.\n",
        "- args에 정의되어 있는 모델의 체크포인트를 이용해 Huggingface hub로부터 sequence classification을 위한 모델과 토크나이저를 불러온 뒤, 모델을 GPU 메모리로 옮깁니다.\n",
        "- 분류해야 하는 class의 종류가 4가지(표준어, 경상도, 제주도, 전라도)이기 때문에, num_labels를 4로 지정해 주었습니다."
      ]
    },
    {
      "cell_type": "code",
      "execution_count": null,
      "metadata": {
        "colab": {
          "base_uri": "https://localhost:8080/",
          "referenced_widgets": [
            "32935f8af03e489db0b043584f6e9ea4",
            "7aa100b680bc4ccbb2e98fca71ea2bfb",
            "fad7c14e5f914e6889088540dff868e8",
            "939d02886d9245f29199c7738bfefae3"
          ]
        },
        "id": "iy2KULr5J6mE",
        "outputId": "56ee358f-e138-4d9f-cede-5ed8686b3d8b"
      },
      "outputs": [
        {
          "data": {
            "application/vnd.jupyter.widget-view+json": {
              "model_id": "32935f8af03e489db0b043584f6e9ea4",
              "version_major": 2,
              "version_minor": 0
            },
            "text/plain": [
              "Downloading:   0%|          | 0.00/441 [00:00<?, ?B/s]"
            ]
          },
          "metadata": {},
          "output_type": "display_data"
        },
        {
          "data": {
            "application/vnd.jupyter.widget-view+json": {
              "model_id": "7aa100b680bc4ccbb2e98fca71ea2bfb",
              "version_major": 2,
              "version_minor": 0
            },
            "text/plain": [
              "Downloading:   0%|          | 0.00/114M [00:00<?, ?B/s]"
            ]
          },
          "metadata": {},
          "output_type": "display_data"
        },
        {
          "name": "stderr",
          "output_type": "stream",
          "text": [
            "Some weights of the model checkpoint at monologg/distilkobert were not used when initializing DistilBertForSequenceClassification: ['vocab_transform.weight', 'vocab_transform.bias', 'vocab_projector.weight', 'vocab_layer_norm.weight', 'vocab_projector.bias', 'vocab_layer_norm.bias']\n",
            "- This IS expected if you are initializing DistilBertForSequenceClassification from the checkpoint of a model trained on another task or with another architecture (e.g. initializing a BertForSequenceClassification model from a BertForPreTraining model).\n",
            "- This IS NOT expected if you are initializing DistilBertForSequenceClassification from the checkpoint of a model that you expect to be exactly identical (initializing a BertForSequenceClassification model from a BertForSequenceClassification model).\n",
            "Some weights of DistilBertForSequenceClassification were not initialized from the model checkpoint at monologg/distilkobert and are newly initialized: ['pre_classifier.weight', 'classifier.bias', 'pre_classifier.bias', 'classifier.weight']\n",
            "You should probably TRAIN this model on a down-stream task to be able to use it for predictions and inference.\n"
          ]
        },
        {
          "data": {
            "application/vnd.jupyter.widget-view+json": {
              "model_id": "fad7c14e5f914e6889088540dff868e8",
              "version_major": 2,
              "version_minor": 0
            },
            "text/plain": [
              "Downloading:   0%|          | 0.00/51.0 [00:00<?, ?B/s]"
            ]
          },
          "metadata": {},
          "output_type": "display_data"
        },
        {
          "data": {
            "application/vnd.jupyter.widget-view+json": {
              "model_id": "939d02886d9245f29199c7738bfefae3",
              "version_major": 2,
              "version_minor": 0
            },
            "text/plain": [
              "Downloading:   0%|          | 0.00/77.8k [00:00<?, ?B/s]"
            ]
          },
          "metadata": {},
          "output_type": "display_data"
        }
      ],
      "source": [
        "# load model&tokenizer\n",
        "model = AutoModelForSequenceClassification.from_pretrained(args.model_ckpt, num_labels=4)\n",
        "model.to(args.device)\n",
        "tokenizer = AutoTokenizer.from_pretrained(args.model_ckpt)"
      ]
    },
    {
      "cell_type": "markdown",
      "metadata": {
        "id": "VGFn0menCcWx"
      },
      "source": [
        "- 미리 정의된 generate_data_loader 함수를 이용해 train/valid 데이터에 대한 DataLoader를 생성합니다."
      ]
    },
    {
      "cell_type": "code",
      "execution_count": null,
      "metadata": {
        "colab": {
          "base_uri": "https://localhost:8080/"
        },
        "id": "xMAhDeUlJ7-6",
        "outputId": "9212cc75-7047-4881-d4a7-59ace55b75bb"
      },
      "outputs": [
        {
          "name": "stderr",
          "output_type": "stream",
          "text": [
            "Tokenizing: 100%|██████████| 1942474/1942474 [02:58<00:00, 10854.48it/s]\n",
            "Converting tokens to ids: 100%|██████████| 1942474/1942474 [00:09<00:00, 204228.49it/s]\n"
          ]
        },
        {
          "name": "stdout",
          "output_type": "stream",
          "text": [
            "Padding sequences...\n"
          ]
        },
        {
          "name": "stderr",
          "output_type": "stream",
          "text": [
            "Generating attention masks: 100%|██████████| 1942474/1942474 [00:13<00:00, 142174.33it/s]\n",
            "Tokenizing: 100%|██████████| 440166/440166 [00:40<00:00, 10954.45it/s]\n",
            "Converting tokens to ids: 100%|██████████| 440166/440166 [00:01<00:00, 233817.26it/s]\n"
          ]
        },
        {
          "name": "stdout",
          "output_type": "stream",
          "text": [
            "Padding sequences...\n"
          ]
        },
        {
          "name": "stderr",
          "output_type": "stream",
          "text": [
            "Generating attention masks: 100%|██████████| 440166/440166 [00:03<00:00, 144807.29it/s]\n"
          ]
        }
      ],
      "source": [
        "train_dataloader = generate_data_loader(args.train_path, tokenizer, args)\n",
        "validation_dataloader = generate_data_loader(args.valid_path, tokenizer, args)"
      ]
    },
    {
      "cell_type": "markdown",
      "metadata": {
        "id": "UEAt94NRCcWx"
      },
      "source": [
        "- 모델과 하이퍼파라미터 그리고 데이터가 준비되었으니 학습을 진행시켜 봅시다.\n",
        "- 각 epoch가 끝날 때 마다 모델의 가중치를 저장하고 validation 결과를 출력합니다. 이를 바탕으로 최적의 결과를 가지는 모델을 선택할 수 있습니다."
      ]
    },
    {
      "cell_type": "code",
      "execution_count": null,
      "metadata": {
        "colab": {
          "base_uri": "https://localhost:8080/",
          "height": 336
        },
        "id": "p7oAiNWVPDYJ",
        "outputId": "38612fa9-fecc-4bff-fe15-3fd491b684c2"
      },
      "outputs": [
        {
          "name": "stdout",
          "output_type": "stream",
          "text": [
            "start training\n"
          ]
        },
        {
          "name": "stderr",
          "output_type": "stream",
          "text": [
            "training epoch 0: 100%|██████████| 7588/7588 [05:49<00:00, 21.72it/s]\n"
          ]
        },
        {
          "name": "stdout",
          "output_type": "stream",
          "text": [
            "start predict\n"
          ]
        },
        {
          "name": "stderr",
          "output_type": "stream",
          "text": [
            "1720it [00:26, 63.83it/s]\n"
          ]
        },
        {
          "name": "stdout",
          "output_type": "stream",
          "text": [
            "Epoch 0,  Average training loss: 0.7127 , Validation accuracy : 0.1751\n"
          ]
        }
      ],
      "source": [
        "model = train(model, args, train_dataloader, validation_dataloader)"
      ]
    },
    {
      "cell_type": "code",
      "execution_count": null,
      "metadata": {
        "id": "GmTeT5_BQJwc",
        "outputId": "9335f9d7-204f-4195-ca9f-4c26bba06ea0"
      },
      "outputs": [
        {
          "name": "stdout",
          "output_type": "stream",
          "text": [
            "입력된 문장 \"안녕하세요\"은/는 전라도 방언입니다.\n"
          ]
        }
      ],
      "source": [
        "input_txt = \"안녕하세요\"\n",
        "\n",
        "test = torch.tensor([tokenizer.encode(input_txt)]).to(args.device)\n",
        "\n",
        "with torch.no_grad():\n",
        "    preds = model(test).logits.cpu()\n",
        "\n",
        "result = np.argmax(preds, axis=1).item()\n",
        "\n",
        "region = [\"경상도\", \"제주도\", \"전라도\"]\n",
        "\n",
        "print('입력된 문장 \"' + input_txt + '\"은/는 ', end='')\n",
        "if result:\n",
        "    print(region[result-1], \"방언입니다.\")\n",
        "else:\n",
        "    print(\"표준어 발화입니다.\")"
      ]
    },
    {
      "cell_type": "code",
      "execution_count": null,
      "metadata": {
        "id": "BvrCe1ymCcWy"
      },
      "outputs": [],
      "source": []
    }
  ],
  "metadata": {
    "accelerator": "GPU",
    "colab": {
      "provenance": [],
      "include_colab_link": true
    },
    "gpuClass": "standard",
    "kernelspec": {
      "display_name": "Python 3.9.13 ('base')",
      "language": "python",
      "name": "python3"
    },
    "language_info": {
      "codemirror_mode": {
        "name": "ipython",
        "version": 3
      },
      "file_extension": ".py",
      "mimetype": "text/x-python",
      "name": "python",
      "nbconvert_exporter": "python",
      "pygments_lexer": "ipython3",
      "version": "3.9.13"
    },
    "vscode": {
      "interpreter": {
        "hash": "ad2bdc8ecc057115af97d19610ffacc2b4e99fae6737bb82f5d7fb13d2f2c186"
      }
    }
  },
  "nbformat": 4,
  "nbformat_minor": 0
}